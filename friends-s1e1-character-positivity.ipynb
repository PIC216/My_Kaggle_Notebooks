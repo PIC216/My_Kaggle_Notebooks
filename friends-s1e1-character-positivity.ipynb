{
 "cells": [
  {
   "cell_type": "code",
   "execution_count": 1,
   "id": "f479ae52",
   "metadata": {
    "_cell_guid": "b1076dfc-b9ad-4769-8c92-a6c4dae69d19",
    "_uuid": "8f2839f25d086af736a60e9eeb907d3b93b6e0e5",
    "execution": {
     "iopub.execute_input": "2022-04-11T10:13:42.322165Z",
     "iopub.status.busy": "2022-04-11T10:13:42.320345Z",
     "iopub.status.idle": "2022-04-11T10:13:42.330988Z",
     "shell.execute_reply": "2022-04-11T10:13:42.331549Z",
     "shell.execute_reply.started": "2022-04-11T09:59:58.895278Z"
    },
    "papermill": {
     "duration": 0.037148,
     "end_time": "2022-04-11T10:13:42.331837",
     "exception": false,
     "start_time": "2022-04-11T10:13:42.294689",
     "status": "completed"
    },
    "tags": []
   },
   "outputs": [],
   "source": [
    "# This Python 3 environment comes with many helpful analytics libraries installed\n",
    "# It is defined by the kaggle/python Docker image: https://github.com/kaggle/docker-python\n",
    "# For example, here's several helpful packages to load\n",
    "\n",
    "import numpy as np # linear algebra\n",
    "import pandas as pd # data processing, CSV file I/O (e.g. pd.read_csv)\n",
    "\n",
    "# Input data files are available in the read-only \"../input/\" directory\n",
    "# For example, running this (by clicking run or pressing Shift+Enter) will list all files under the input directory\n",
    "\n",
    "import os\n",
    "# for dirname, _, filenames in os.walk('/kaggle/input'):\n",
    "#     for filename in filenames:\n",
    "#         print(os.path.join(dirname, filename))\n",
    "\n",
    "# You can write up to 20GB to the current directory (/kaggle/working/) that gets preserved as output when you create a version using \"Save & Run All\" \n",
    "# You can also write temporary files to /kaggle/temp/, but they won't be saved outside of the current session"
   ]
  },
  {
   "cell_type": "markdown",
   "id": "99cd04d1",
   "metadata": {
    "papermill": {
     "duration": 0.025991,
     "end_time": "2022-04-11T10:13:42.378122",
     "exception": false,
     "start_time": "2022-04-11T10:13:42.352131",
     "status": "completed"
    },
    "tags": []
   },
   "source": [
    "\n",
    "**Friends S1E1 Character Positivity**\n",
    "\n",
    "I, like a lot of people, love Friends! And I, like most people, have my favourite character (can you guess who?).\n",
    "\n",
    "I would like to therefore find out if my favourite character is the most positive character in the show. However, to start with I am just going to consider the first episode."
   ]
  },
  {
   "cell_type": "markdown",
   "id": "ce17c479",
   "metadata": {
    "papermill": {
     "duration": 0.028419,
     "end_time": "2022-04-11T10:13:42.429099",
     "exception": false,
     "start_time": "2022-04-11T10:13:42.400680",
     "status": "completed"
    },
    "tags": []
   },
   "source": [
    "**Data Input**\n",
    "\n",
    "The data is currently a text file and I plan to turn it into a data frame consisting of a column of character names and a column of speech by that character. First, however, I am going to create a nested list and clean it before turning it into a data frame."
   ]
  },
  {
   "cell_type": "code",
   "execution_count": 2,
   "id": "4a686fac",
   "metadata": {
    "execution": {
     "iopub.execute_input": "2022-04-11T10:13:42.480650Z",
     "iopub.status.busy": "2022-04-11T10:13:42.479624Z",
     "iopub.status.idle": "2022-04-11T10:13:42.497901Z",
     "shell.execute_reply": "2022-04-11T10:13:42.498420Z",
     "shell.execute_reply.started": "2022-04-11T09:59:58.992165Z"
    },
    "papermill": {
     "duration": 0.048397,
     "end_time": "2022-04-11T10:13:42.498617",
     "exception": false,
     "start_time": "2022-04-11T10:13:42.450220",
     "status": "completed"
    },
    "tags": []
   },
   "outputs": [
    {
     "name": "stdout",
     "output_type": "stream",
     "text": [
      "[['Monica', \"There's nothing to tell! He's just some guy I work with!\"], ['Joey', \"C'mon, you're going out with the guy! There's gotta be something wrong with him!\"]]\n"
     ]
    }
   ],
   "source": [
    "df = open('../input/friends-tv-series-screenplay-script/S01E01 Monica Gets A Roommate.txt', \"r\")\n",
    "lines = df.readlines()\n",
    "df.close()\n",
    "\n",
    "# remove /n at the end of each line\n",
    "for index, line in enumerate(lines):\n",
    "      lines[index] = line.strip()\n",
    "# print(lines)\n",
    "\n",
    "#for line in lines:\n",
    "    #print(line)\n",
    "names = ['Phoebe', 'Monica', 'Rachel', 'Chandler', 'Joey', 'Ross']\n",
    "\n",
    "data = []\n",
    "\n",
    "for line in lines:\n",
    "    # print(line)\n",
    "    if \":\" in line:\n",
    "        splitline = line.split(': ')\n",
    "        #print(splitline[0])\n",
    "        if splitline[0] in names:\n",
    "            data.append(splitline)\n",
    "    \n",
    "\n",
    "# m = lines[6].split(':')\n",
    "# print(m[0] in names)\n",
    "# for value in data:\n",
    "#     print(value)\n",
    "print(data[0:2])"
   ]
  },
  {
   "cell_type": "markdown",
   "id": "d98b43e8",
   "metadata": {
    "papermill": {
     "duration": 0.021576,
     "end_time": "2022-04-11T10:13:42.542048",
     "exception": false,
     "start_time": "2022-04-11T10:13:42.520472",
     "status": "completed"
    },
    "tags": []
   },
   "source": [
    "**Data Cleaning**\n",
    "\n",
    "There are a few things I need to check for, firstly that each list in data contains only 2 values, character name and speech, and that within the speech data there is only speech."
   ]
  },
  {
   "cell_type": "code",
   "execution_count": 3,
   "id": "7665d846",
   "metadata": {
    "execution": {
     "iopub.execute_input": "2022-04-11T10:13:42.589297Z",
     "iopub.status.busy": "2022-04-11T10:13:42.586325Z",
     "iopub.status.idle": "2022-04-11T10:13:42.592692Z",
     "shell.execute_reply": "2022-04-11T10:13:42.593164Z",
     "shell.execute_reply.started": "2022-04-11T09:59:59.014315Z"
    },
    "papermill": {
     "duration": 0.03003,
     "end_time": "2022-04-11T10:13:42.593354",
     "exception": false,
     "start_time": "2022-04-11T10:13:42.563324",
     "status": "completed"
    },
    "tags": []
   },
   "outputs": [
    {
     "name": "stdout",
     "output_type": "stream",
     "text": [
      "47\n",
      "['Rachel', \"Oh God... well, it started about a half hour before the wedding. I was in the room where we were keeping all the presents, and I was looking at this gravy boat. This really gorgeous Lamauge gravy boat. When all of a sudden- (to the waitress that brought her coffee)Sweet 'n' Lo?- I realized that I was more turned on by this gravy boat than by Barry! And then I got really freaked out, and that's when it hit me\", \"how much Barry looks like Mr. Potato Head. Y'know, I mean, I always knew looked familiar, but... Anyway, I just had to get out of there, and I started wondering 'Why am I doing this, and who am I doing this for?'. (to Monica) So anyway I just didn't know where to go, and I know that you and I have kinda drifted apart, but you're the only person I knew who lived here in the city.\"] \n",
      "\n",
      "49\n",
      "['Rachel', \"Ooh, I was kinda hoping that wouldn't be an issue... [Scene\", \"Monica's Apartment, everyone is there and watching a Spanish Soap on TV and are trying to figure out what is going on.]\"] \n",
      "\n",
      "74\n",
      "['Monica', 'Maybe. Joey', \"Wait. Your 'not a real date' tonight is with Paul the Wine Guy?\"] \n",
      "\n",
      "124\n",
      "['Monica', \"That's right. [Scene\", \"Monica's Apartment, Rachel is talking on the phone and pacing.]\"] \n",
      "\n",
      "134\n",
      "['Chandler', 'Stay out of my freezer! [Scene', 'A Restaurant, Monica and Paul are still eating.]'] \n",
      "\n"
     ]
    }
   ],
   "source": [
    "for value in range(len(data)):\n",
    "    if len(data[value]) > 2:\n",
    "        print(value)\n",
    "        print(data[value], '\\n')"
   ]
  },
  {
   "cell_type": "markdown",
   "id": "41b9a04a",
   "metadata": {
    "papermill": {
     "duration": 0.020374,
     "end_time": "2022-04-11T10:13:42.634568",
     "exception": false,
     "start_time": "2022-04-11T10:13:42.614194",
     "status": "completed"
    },
    "tags": []
   },
   "source": [
    "It looks like there was 1 line that contained a : in the speech, another line where the next characters speech did not occur on a new line, and 3 lines where the Scene change did not occur on a new line. Let's correct this:"
   ]
  },
  {
   "cell_type": "code",
   "execution_count": 4,
   "id": "799b847d",
   "metadata": {
    "execution": {
     "iopub.execute_input": "2022-04-11T10:13:42.678646Z",
     "iopub.status.busy": "2022-04-11T10:13:42.677921Z",
     "iopub.status.idle": "2022-04-11T10:13:42.684513Z",
     "shell.execute_reply": "2022-04-11T10:13:42.685047Z",
     "shell.execute_reply.started": "2022-04-11T09:59:59.029554Z"
    },
    "papermill": {
     "duration": 0.030177,
     "end_time": "2022-04-11T10:13:42.685209",
     "exception": false,
     "start_time": "2022-04-11T10:13:42.655032",
     "status": "completed"
    },
    "tags": []
   },
   "outputs": [],
   "source": [
    "combined_string = data[47][1] + \": \" + data[47][2]\n",
    "data[47][1] = combined_string\n",
    "data[47].pop(2)\n",
    "\n",
    "data[74][1] = data[74][1].replace(\" Joey\", \"\")\n",
    "new_line = [\"Joey\", data[74][2]]\n",
    "data.insert(75, new_line)\n",
    "data[74].pop(2)\n",
    "\n",
    "for value in data:\n",
    "    if value[1].endswith(\" [Scene\"):\n",
    "        value[1] = value[1].replace(\" [Scene\", \"\")\n",
    "        value.pop(2)"
   ]
  },
  {
   "cell_type": "markdown",
   "id": "92b4b228",
   "metadata": {
    "papermill": {
     "duration": 0.020127,
     "end_time": "2022-04-11T10:13:42.725702",
     "exception": false,
     "start_time": "2022-04-11T10:13:42.705575",
     "status": "completed"
    },
    "tags": []
   },
   "source": [
    "I also noticed from data[47] above that I was right to consider that it will not just be speech in the speech data, there is also stage directions within parentheses. Let's correct this as well:"
   ]
  },
  {
   "cell_type": "code",
   "execution_count": 5,
   "id": "35202848",
   "metadata": {
    "execution": {
     "iopub.execute_input": "2022-04-11T10:13:42.770590Z",
     "iopub.status.busy": "2022-04-11T10:13:42.769468Z",
     "iopub.status.idle": "2022-04-11T10:13:42.774350Z",
     "shell.execute_reply": "2022-04-11T10:13:42.774863Z",
     "shell.execute_reply.started": "2022-04-11T09:59:59.050692Z"
    },
    "papermill": {
     "duration": 0.028927,
     "end_time": "2022-04-11T10:13:42.775028",
     "exception": false,
     "start_time": "2022-04-11T10:13:42.746101",
     "status": "completed"
    },
    "tags": []
   },
   "outputs": [],
   "source": [
    "def remove_stage_directions(line):\n",
    "    start = line.index(\"(\")\n",
    "    end = line.index(\")\")\n",
    "    new_line = line[0:start] + line[end+1:]\n",
    "    return new_line"
   ]
  },
  {
   "cell_type": "code",
   "execution_count": 6,
   "id": "0d092bb8",
   "metadata": {
    "execution": {
     "iopub.execute_input": "2022-04-11T10:13:42.819893Z",
     "iopub.status.busy": "2022-04-11T10:13:42.818975Z",
     "iopub.status.idle": "2022-04-11T10:13:42.824577Z",
     "shell.execute_reply": "2022-04-11T10:13:42.825028Z",
     "shell.execute_reply.started": "2022-04-11T09:59:59.087886Z"
    },
    "papermill": {
     "duration": 0.029341,
     "end_time": "2022-04-11T10:13:42.825193",
     "exception": false,
     "start_time": "2022-04-11T10:13:42.795852",
     "status": "completed"
    },
    "tags": []
   },
   "outputs": [],
   "source": [
    "for value in data:\n",
    "    line = value[1]\n",
    "    bracket_count = line.count(\"(\")\n",
    "    if bracket_count == 0:\n",
    "        continue\n",
    "    else:\n",
    "        # print(line)\n",
    "        line_list = [line]\n",
    "        while bracket_count > 0:\n",
    "            new_line = remove_stage_directions(line_list[-1])\n",
    "            line_list.append(new_line)\n",
    "            bracket_count -= 1\n",
    "    # print(line_list[-1])\n",
    "    value[1] = line_list[-1]\n"
   ]
  },
  {
   "cell_type": "code",
   "execution_count": 7,
   "id": "69fe0b23",
   "metadata": {
    "execution": {
     "iopub.execute_input": "2022-04-11T10:13:42.869575Z",
     "iopub.status.busy": "2022-04-11T10:13:42.868634Z",
     "iopub.status.idle": "2022-04-11T10:13:42.874589Z",
     "shell.execute_reply": "2022-04-11T10:13:42.875242Z",
     "shell.execute_reply.started": "2022-04-11T09:59:59.115719Z"
    },
    "papermill": {
     "duration": 0.029802,
     "end_time": "2022-04-11T10:13:42.875472",
     "exception": false,
     "start_time": "2022-04-11T10:13:42.845670",
     "status": "completed"
    },
    "tags": []
   },
   "outputs": [
    {
     "name": "stdout",
     "output_type": "stream",
     "text": [
      "['Rachel', \"Oh God... well, it started about a half hour before the wedding. I was in the room where we were keeping all the presents, and I was looking at this gravy boat. This really gorgeous Lamauge gravy boat. When all of a sudden- Sweet 'n' Lo?- I realized that I was more turned on by this gravy boat than by Barry! And then I got really freaked out, and that's when it hit me: how much Barry looks like Mr. Potato Head. Y'know, I mean, I always knew looked familiar, but... Anyway, I just had to get out of there, and I started wondering 'Why am I doing this, and who am I doing this for?'.  So anyway I just didn't know where to go, and I know that you and I have kinda drifted apart, but you're the only person I knew who lived here in the city.\"]\n"
     ]
    }
   ],
   "source": [
    "print(data[47])"
   ]
  },
  {
   "cell_type": "markdown",
   "id": "70c99451",
   "metadata": {
    "papermill": {
     "duration": 0.020339,
     "end_time": "2022-04-11T10:13:42.917235",
     "exception": false,
     "start_time": "2022-04-11T10:13:42.896896",
     "status": "completed"
    },
    "tags": []
   },
   "source": [
    "It looks like the data is all clean!\n",
    "\n",
    "Let's turn it into a data frame and check how it looks."
   ]
  },
  {
   "cell_type": "code",
   "execution_count": 8,
   "id": "8174f883",
   "metadata": {
    "execution": {
     "iopub.execute_input": "2022-04-11T10:13:42.971735Z",
     "iopub.status.busy": "2022-04-11T10:13:42.971079Z",
     "iopub.status.idle": "2022-04-11T10:13:42.988078Z",
     "shell.execute_reply": "2022-04-11T10:13:42.988689Z",
     "shell.execute_reply.started": "2022-04-11T09:59:59.141304Z"
    },
    "papermill": {
     "duration": 0.05065,
     "end_time": "2022-04-11T10:13:42.988853",
     "exception": false,
     "start_time": "2022-04-11T10:13:42.938203",
     "status": "completed"
    },
    "tags": []
   },
   "outputs": [
    {
     "data": {
      "text/html": [
       "<div>\n",
       "<style scoped>\n",
       "    .dataframe tbody tr th:only-of-type {\n",
       "        vertical-align: middle;\n",
       "    }\n",
       "\n",
       "    .dataframe tbody tr th {\n",
       "        vertical-align: top;\n",
       "    }\n",
       "\n",
       "    .dataframe thead th {\n",
       "        text-align: right;\n",
       "    }\n",
       "</style>\n",
       "<table border=\"1\" class=\"dataframe\">\n",
       "  <thead>\n",
       "    <tr style=\"text-align: right;\">\n",
       "      <th></th>\n",
       "      <th>Name</th>\n",
       "      <th>Line</th>\n",
       "    </tr>\n",
       "  </thead>\n",
       "  <tbody>\n",
       "    <tr>\n",
       "      <th>0</th>\n",
       "      <td>Monica</td>\n",
       "      <td>There's nothing to tell! He's just some guy I ...</td>\n",
       "    </tr>\n",
       "    <tr>\n",
       "      <th>1</th>\n",
       "      <td>Joey</td>\n",
       "      <td>C'mon, you're going out with the guy! There's ...</td>\n",
       "    </tr>\n",
       "    <tr>\n",
       "      <th>2</th>\n",
       "      <td>Chandler</td>\n",
       "      <td>All right Joey, be nice.  So does he have a hu...</td>\n",
       "    </tr>\n",
       "    <tr>\n",
       "      <th>3</th>\n",
       "      <td>Phoebe</td>\n",
       "      <td>Wait, does he eat chalk?</td>\n",
       "    </tr>\n",
       "    <tr>\n",
       "      <th>4</th>\n",
       "      <td>Phoebe</td>\n",
       "      <td>Just, 'cause, I don't want her to go through w...</td>\n",
       "    </tr>\n",
       "  </tbody>\n",
       "</table>\n",
       "</div>"
      ],
      "text/plain": [
       "       Name                                               Line\n",
       "0    Monica  There's nothing to tell! He's just some guy I ...\n",
       "1      Joey  C'mon, you're going out with the guy! There's ...\n",
       "2  Chandler  All right Joey, be nice.  So does he have a hu...\n",
       "3    Phoebe                           Wait, does he eat chalk?\n",
       "4    Phoebe  Just, 'cause, I don't want her to go through w..."
      ]
     },
     "execution_count": 8,
     "metadata": {},
     "output_type": "execute_result"
    }
   ],
   "source": [
    "df = pd.DataFrame(data, columns = [\"Name\", \"Line\"])\n",
    "df.head()"
   ]
  },
  {
   "cell_type": "markdown",
   "id": "56bae9f7",
   "metadata": {
    "papermill": {
     "duration": 0.020985,
     "end_time": "2022-04-11T10:13:43.031704",
     "exception": false,
     "start_time": "2022-04-11T10:13:43.010719",
     "status": "completed"
    },
    "tags": []
   },
   "source": [
    "**Data Analysis**\n",
    "\n",
    "My plan is to use NLTK senntiment analysis to determine whether each line of speech is positive or negative, then average these values to determine the proportion of lines where each character is positive."
   ]
  },
  {
   "cell_type": "code",
   "execution_count": 9,
   "id": "f9233dd3",
   "metadata": {
    "execution": {
     "iopub.execute_input": "2022-04-11T10:13:43.078071Z",
     "iopub.status.busy": "2022-04-11T10:13:43.077397Z",
     "iopub.status.idle": "2022-04-11T10:13:44.877914Z",
     "shell.execute_reply": "2022-04-11T10:13:44.878669Z",
     "shell.execute_reply.started": "2022-04-11T09:59:59.162020Z"
    },
    "papermill": {
     "duration": 1.825762,
     "end_time": "2022-04-11T10:13:44.878918",
     "exception": false,
     "start_time": "2022-04-11T10:13:43.053156",
     "status": "completed"
    },
    "tags": []
   },
   "outputs": [
    {
     "name": "stdout",
     "output_type": "stream",
     "text": [
      "[nltk_data] Downloading package maxent_ne_chunker to\n",
      "[nltk_data]     /usr/share/nltk_data...\n",
      "[nltk_data]   Package maxent_ne_chunker is already up-to-date!\n",
      "[nltk_data] Downloading package words to /usr/share/nltk_data...\n",
      "[nltk_data]   Package words is already up-to-date!\n",
      "[nltk_data] Downloading package punkt to /usr/share/nltk_data...\n",
      "[nltk_data]   Package punkt is already up-to-date!\n"
     ]
    },
    {
     "name": "stderr",
     "output_type": "stream",
     "text": [
      "/opt/conda/lib/python3.7/site-packages/nltk/twitter/__init__.py:20: UserWarning: The twython library has not been installed. Some functionality from the twitter package will not be available.\n",
      "  warnings.warn(\"The twython library has not been installed. \"\n"
     ]
    }
   ],
   "source": [
    "import nltk\n",
    "nltk.download('maxent_ne_chunker')\n",
    "nltk.download('words')\n",
    "nltk.download('punkt')\n",
    "from nltk.sentiment import SentimentIntensityAnalyzer\n",
    "from textblob import TextBlob"
   ]
  },
  {
   "cell_type": "code",
   "execution_count": 10,
   "id": "e3556a56",
   "metadata": {
    "execution": {
     "iopub.execute_input": "2022-04-11T10:13:44.929823Z",
     "iopub.status.busy": "2022-04-11T10:13:44.928836Z",
     "iopub.status.idle": "2022-04-11T10:13:45.146704Z",
     "shell.execute_reply": "2022-04-11T10:13:45.146142Z",
     "shell.execute_reply.started": "2022-04-11T09:59:59.196218Z"
    },
    "papermill": {
     "duration": 0.244189,
     "end_time": "2022-04-11T10:13:45.146847",
     "exception": false,
     "start_time": "2022-04-11T10:13:44.902658",
     "status": "completed"
    },
    "tags": []
   },
   "outputs": [
    {
     "data": {
      "text/html": [
       "<div>\n",
       "<style scoped>\n",
       "    .dataframe tbody tr th:only-of-type {\n",
       "        vertical-align: middle;\n",
       "    }\n",
       "\n",
       "    .dataframe tbody tr th {\n",
       "        vertical-align: top;\n",
       "    }\n",
       "\n",
       "    .dataframe thead th {\n",
       "        text-align: right;\n",
       "    }\n",
       "</style>\n",
       "<table border=\"1\" class=\"dataframe\">\n",
       "  <thead>\n",
       "    <tr style=\"text-align: right;\">\n",
       "      <th></th>\n",
       "      <th>Name</th>\n",
       "      <th>Line</th>\n",
       "      <th>Sentiment_Classification_Labels</th>\n",
       "    </tr>\n",
       "  </thead>\n",
       "  <tbody>\n",
       "    <tr>\n",
       "      <th>0</th>\n",
       "      <td>Monica</td>\n",
       "      <td>There's nothing to tell! He's just some guy I ...</td>\n",
       "      <td>0</td>\n",
       "    </tr>\n",
       "    <tr>\n",
       "      <th>1</th>\n",
       "      <td>Joey</td>\n",
       "      <td>C'mon, you're going out with the guy! There's ...</td>\n",
       "      <td>0</td>\n",
       "    </tr>\n",
       "    <tr>\n",
       "      <th>2</th>\n",
       "      <td>Chandler</td>\n",
       "      <td>All right Joey, be nice.  So does he have a hu...</td>\n",
       "      <td>1</td>\n",
       "    </tr>\n",
       "    <tr>\n",
       "      <th>3</th>\n",
       "      <td>Phoebe</td>\n",
       "      <td>Wait, does he eat chalk?</td>\n",
       "      <td>0</td>\n",
       "    </tr>\n",
       "    <tr>\n",
       "      <th>4</th>\n",
       "      <td>Phoebe</td>\n",
       "      <td>Just, 'cause, I don't want her to go through w...</td>\n",
       "      <td>0</td>\n",
       "    </tr>\n",
       "  </tbody>\n",
       "</table>\n",
       "</div>"
      ],
      "text/plain": [
       "       Name                                               Line  \\\n",
       "0    Monica  There's nothing to tell! He's just some guy I ...   \n",
       "1      Joey  C'mon, you're going out with the guy! There's ...   \n",
       "2  Chandler  All right Joey, be nice.  So does he have a hu...   \n",
       "3    Phoebe                           Wait, does he eat chalk?   \n",
       "4    Phoebe  Just, 'cause, I don't want her to go through w...   \n",
       "\n",
       "   Sentiment_Classification_Labels  \n",
       "0                                0  \n",
       "1                                0  \n",
       "2                                1  \n",
       "3                                0  \n",
       "4                                0  "
      ]
     },
     "execution_count": 10,
     "metadata": {},
     "output_type": "execute_result"
    }
   ],
   "source": [
    "lines = df[\"Line\"]\n",
    "\n",
    "sentiment_classification_labels = []\n",
    "for index, line in enumerate(lines):\n",
    "  # blob is the entire current review in the loop\n",
    "  blob = TextBlob(line)\n",
    "\n",
    "  # aggregating the sentiment score\n",
    "  sentiment = 0\n",
    "  # looping over each sentence in the review\n",
    "  for sentence in blob.sentences:\n",
    "    sentiment += sentence.sentiment.polarity\n",
    "  \n",
    "  # determining if scores are negative or positive\n",
    "  if sentiment > 0:\n",
    "    sentiment_label_for_current_review = 1\n",
    "  else:\n",
    "    sentiment_label_for_current_review = 0\n",
    "\n",
    "  # adding sentiment label to list\n",
    "  sentiment_classification_labels.append(sentiment_label_for_current_review)\n",
    "\n",
    "# adding all sentiment labels to the data frame\n",
    "df['Sentiment_Classification_Labels'] = sentiment_classification_labels\n",
    "df.head()"
   ]
  },
  {
   "cell_type": "code",
   "execution_count": 11,
   "id": "6acabc63",
   "metadata": {
    "execution": {
     "iopub.execute_input": "2022-04-11T10:13:45.204459Z",
     "iopub.status.busy": "2022-04-11T10:13:45.203821Z",
     "iopub.status.idle": "2022-04-11T10:13:45.284006Z",
     "shell.execute_reply": "2022-04-11T10:13:45.284459Z",
     "shell.execute_reply.started": "2022-04-11T09:59:59.362748Z"
    },
    "papermill": {
     "duration": 0.114729,
     "end_time": "2022-04-11T10:13:45.284643",
     "exception": false,
     "start_time": "2022-04-11T10:13:45.169914",
     "status": "completed"
    },
    "tags": []
   },
   "outputs": [],
   "source": [
    "char_sentiment = []\n",
    "for name in names:\n",
    "    score = 0\n",
    "    number = 0\n",
    "    for index, row in df.iterrows():\n",
    "        if row[\"Name\"] != name:\n",
    "            pass\n",
    "        elif row[\"Name\"] == name:\n",
    "            score += row[\"Sentiment_Classification_Labels\"]\n",
    "            number += 1\n",
    "    av = score*100/number\n",
    "    char_sentiment.append([name, av])"
   ]
  },
  {
   "cell_type": "code",
   "execution_count": 12,
   "id": "51d9ce26",
   "metadata": {
    "execution": {
     "iopub.execute_input": "2022-04-11T10:13:45.335462Z",
     "iopub.status.busy": "2022-04-11T10:13:45.334789Z",
     "iopub.status.idle": "2022-04-11T10:13:45.338930Z",
     "shell.execute_reply": "2022-04-11T10:13:45.339432Z",
     "shell.execute_reply.started": "2022-04-11T09:59:59.453332Z"
    },
    "papermill": {
     "duration": 0.032012,
     "end_time": "2022-04-11T10:13:45.339637",
     "exception": false,
     "start_time": "2022-04-11T10:13:45.307625",
     "status": "completed"
    },
    "tags": []
   },
   "outputs": [
    {
     "name": "stdout",
     "output_type": "stream",
     "text": [
      "Phoebe is positive in 26.32% of their lines.\n",
      "\n",
      "Monica is positive in 31.51% of their lines.\n",
      "\n",
      "Rachel is positive in 31.25% of their lines.\n",
      "\n",
      "Chandler is positive in 35.9% of their lines.\n",
      "\n",
      "Joey is positive in 22.5% of their lines.\n",
      "\n",
      "Ross is positive in 34.04% of their lines.\n",
      "\n"
     ]
    }
   ],
   "source": [
    "for value in char_sentiment:\n",
    "    print(f\"{value[0]} is positive in {round(value[1], 2)}% of their lines.\\n\")"
   ]
  },
  {
   "cell_type": "markdown",
   "id": "cd632937",
   "metadata": {
    "papermill": {
     "duration": 0.022845,
     "end_time": "2022-04-11T10:13:45.385709",
     "exception": false,
     "start_time": "2022-04-11T10:13:45.362864",
     "status": "completed"
    },
    "tags": []
   },
   "source": [
    "**Data Visualisation**\n",
    "\n",
    "Now I'm going to show this information in a clearer way."
   ]
  },
  {
   "cell_type": "code",
   "execution_count": 13,
   "id": "e036c2a0",
   "metadata": {
    "execution": {
     "iopub.execute_input": "2022-04-11T10:13:45.444443Z",
     "iopub.status.busy": "2022-04-11T10:13:45.443766Z",
     "iopub.status.idle": "2022-04-11T10:13:45.734700Z",
     "shell.execute_reply": "2022-04-11T10:13:45.735598Z",
     "shell.execute_reply.started": "2022-04-11T09:59:59.462234Z"
    },
    "papermill": {
     "duration": 0.327133,
     "end_time": "2022-04-11T10:13:45.735876",
     "exception": false,
     "start_time": "2022-04-11T10:13:45.408743",
     "status": "completed"
    },
    "tags": []
   },
   "outputs": [
    {
     "data": {
      "image/png": "[encoded data removed]",
      "text/plain": [
       "<Figure size 576x432 with 1 Axes>"
      ]
     },
     "metadata": {
      "needs_background": "light"
     },
     "output_type": "display_data"
    }
   ],
   "source": [
    "from matplotlib import pyplot as plt\n",
    "\n",
    "positivity = []\n",
    "for value in char_sentiment:\n",
    "    positivity.append(value[1])\n",
    "\n",
    "plt.figure(figsize=(8, 6))\n",
    "plt.bar(names, positivity, color = 'b')\n",
    "plt.ylabel(\"Percentage of lines that are positive\")\n",
    "plt.xlabel(\"Character\")\n",
    "plt.title(\"Positivity of Friends characters\")\n",
    "plt.yticks([0, 5, 10, 15, 20, 25, 30, 35, 40])\n",
    "plt.show()"
   ]
  },
  {
   "cell_type": "markdown",
   "id": "ac91a339",
   "metadata": {
    "papermill": {
     "duration": 0.029267,
     "end_time": "2022-04-11T10:13:45.809173",
     "exception": false,
     "start_time": "2022-04-11T10:13:45.779906",
     "status": "completed"
    },
    "tags": []
   },
   "source": [
    "Well, it looks like Chandler was the most positive. Considering he is known for his sarcasm it surprises me that he was the most positive character in the first episode.\n",
    "It is also extremely surprising that Joey is the least positive character, nearly 4 percentage points lower than Phoebe, the next least positive character, and over 13 percentage points lower than Chandler."
   ]
  },
  {
   "cell_type": "markdown",
   "id": "9e62ec5d",
   "metadata": {
    "papermill": {
     "duration": 0.023993,
     "end_time": "2022-04-11T10:13:45.857124",
     "exception": false,
     "start_time": "2022-04-11T10:13:45.833131",
     "status": "completed"
    },
    "tags": []
   },
   "source": [
    "**Conclusion**\n",
    "\n",
    "In the first ever episode of Friends Chandler is the most positive character while Joey is the least positive character.\n",
    "\n",
    "Potentially in a future notebook I will repeat the above analysis for the final ever episode and find out whether these findings have changed.\n",
    "\n",
    "If you have any other suggestions for future analyses please leave them as a comment here on Kaggle.\n",
    "\n",
    "Thanks for reading, hope you enjoyed it!"
   ]
  }
 ],
 "metadata": {
  "kernelspec": {
   "display_name": "Python 3",
   "language": "python",
   "name": "python3"
  },
  "language_info": {
   "codemirror_mode": {
    "name": "ipython",
    "version": 3
   },
   "file_extension": ".py",
   "mimetype": "text/x-python",
   "name": "python",
   "nbconvert_exporter": "python",
   "pygments_lexer": "ipython3",
   "version": "3.7.12"
  },
  "papermill": {
   "default_parameters": {},
   "duration": 13.718875,
   "end_time": "2022-04-11T10:13:46.592575",
   "environment_variables": {},
   "exception": null,
   "input_path": "__notebook__.ipynb",
   "output_path": "__notebook__.ipynb",
   "parameters": {},
   "start_time": "2022-04-11T10:13:32.873700",
   "version": "2.3.3"
  }
 },
 "nbformat": 4,
 "nbformat_minor": 5
}
